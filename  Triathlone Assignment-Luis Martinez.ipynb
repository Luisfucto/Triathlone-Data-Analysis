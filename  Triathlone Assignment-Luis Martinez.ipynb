{
 "cells": [
  {
   "cell_type": "markdown",
   "metadata": {},
   "source": [
    "# Programming 2\n",
    "## Luis Martinez\n",
    "## Triathlone Data Analysis"
   ]
  },
  {
   "cell_type": "markdown",
   "metadata": {},
   "source": [
    "Often referred to as **sabremetrics**, analysis of sports data has become a huge application domain for data science. Anaysing sports data allows teams organise themselves better, athletes better understand what drives their performance, and fans get closer to the game. In this assignment we will anayse data from the 2017 Triathlone Sprint Triathlon event [Triathlone](http://www.triathlone.com/) to understand what drives triathlon success. A triathlon is a multi-sport event in which atheletes complete a **swim**, a **cycle** and a **run** in the fastest time possible. Between the swim and cycle and cycle and run there are timed **transitions** during which competitors change equipment.\n",
    "<img src = \"files/triathlone.jpg\" width = \"500\">\n",
    "\n",
    "We will follow the data science pipeline discussed in class and shown in the image below (adopted from [Hadley Wickham](http://r4ds.had.co.nz/intro.html)).\n",
    "<img src = \"files/DataScienceProcess.png\" width = \"500\">"
   ]
  },
  {
   "cell_type": "code",
   "execution_count": 1,
   "metadata": {},
   "outputs": [],
   "source": [
    "# Import useful packages for data science\n",
    "from IPython.display import display, HTML\n",
    "import numpy as np\n",
    "import pandas as pd\n",
    "import matplotlib.pyplot as plt\n",
    "%matplotlib inline \n",
    "# Add more packages here"
   ]
  },
  {
   "cell_type": "markdown",
   "metadata": {},
   "source": [
    "## Question 1: Import \n",
    "\n",
    "Load the dataset stored in the file **TriathloneData.csv**. The variables in this dataset are as follows:\n",
    "\n",
    "* **Place:** The place in which the athlete finished the race (missing for non-finishers)\n",
    "* **Number:** The athlete's race bib number\n",
    "* **Wave:** The wave with which the athlete started (one of 1, 2, or 3)\n",
    "* **Age_Cat:** The athlete's age category (one of 16-19, 20-29, 30-39, 40-49, or 50+)\n",
    "* **Gender:** The gender that the athlete declared (one of 'M' or 'F')\n",
    "* **TI_Number:** Some athlete's are members of the Traithlon Ireland association and if so declare their membership number\t\n",
    "* **Swim:** The time taken for the swimming leg of the event (in format hh:mm:ss)\n",
    "* **T1:** The time taken for the first transition of the event (in format hh:mm:ss)\n",
    "* **Cycle:** The time taken for the cycling leg of the event (in format hh:mm:ss)\n",
    "* **T2:** The time taken for the swimming leg of the event (in format hh:mm:ss)\n",
    "* **Run:** The time taken for the running leg of the event (in format hh:mm:ss)\n",
    "* **Finish:** The time taken for the total event (in format hh:mm:ss)"
   ]
  },
  {
   "cell_type": "code",
   "execution_count": 2,
   "metadata": {},
   "outputs": [
    {
     "data": {
      "text/html": [
       "<div>\n",
       "<style scoped>\n",
       "    .dataframe tbody tr th:only-of-type {\n",
       "        vertical-align: middle;\n",
       "    }\n",
       "\n",
       "    .dataframe tbody tr th {\n",
       "        vertical-align: top;\n",
       "    }\n",
       "\n",
       "    .dataframe thead th {\n",
       "        text-align: right;\n",
       "    }\n",
       "</style>\n",
       "<table border=\"1\" class=\"dataframe\">\n",
       "  <thead>\n",
       "    <tr style=\"text-align: right;\">\n",
       "      <th></th>\n",
       "      <th>Place</th>\n",
       "      <th>Number</th>\n",
       "      <th>Wave</th>\n",
       "      <th>Age_Cat</th>\n",
       "      <th>Gender</th>\n",
       "      <th>TI_Number</th>\n",
       "      <th>Swim</th>\n",
       "      <th>T1</th>\n",
       "      <th>Cycle</th>\n",
       "      <th>T2</th>\n",
       "      <th>Run</th>\n",
       "      <th>Finish</th>\n",
       "    </tr>\n",
       "  </thead>\n",
       "  <tbody>\n",
       "    <tr>\n",
       "      <th>0</th>\n",
       "      <td>11.0</td>\n",
       "      <td>46</td>\n",
       "      <td>1</td>\n",
       "      <td>16-19</td>\n",
       "      <td>M</td>\n",
       "      <td>10052793</td>\n",
       "      <td>00:08:38</td>\n",
       "      <td>00:01:04</td>\n",
       "      <td>00:38:13</td>\n",
       "      <td>00:00:42</td>\n",
       "      <td>00:24:06</td>\n",
       "      <td>01:12:44</td>\n",
       "    </tr>\n",
       "    <tr>\n",
       "      <th>1</th>\n",
       "      <td>8.0</td>\n",
       "      <td>151</td>\n",
       "      <td>1</td>\n",
       "      <td>40-49</td>\n",
       "      <td>M</td>\n",
       "      <td>10046427</td>\n",
       "      <td>00:14:37</td>\n",
       "      <td>00:01:21</td>\n",
       "      <td>00:35:14</td>\n",
       "      <td>00:00:59</td>\n",
       "      <td>00:19:52</td>\n",
       "      <td>01:12:03</td>\n",
       "    </tr>\n",
       "    <tr>\n",
       "      <th>2</th>\n",
       "      <td>3.0</td>\n",
       "      <td>110</td>\n",
       "      <td>1</td>\n",
       "      <td>30-39</td>\n",
       "      <td>M</td>\n",
       "      <td>NaN</td>\n",
       "      <td>00:10:21</td>\n",
       "      <td>00:01:25</td>\n",
       "      <td>00:33:02</td>\n",
       "      <td>00:00:53</td>\n",
       "      <td>00:21:22</td>\n",
       "      <td>01:07:03</td>\n",
       "    </tr>\n",
       "    <tr>\n",
       "      <th>3</th>\n",
       "      <td>2.0</td>\n",
       "      <td>103</td>\n",
       "      <td>1</td>\n",
       "      <td>30-39</td>\n",
       "      <td>M</td>\n",
       "      <td>10045063</td>\n",
       "      <td>00:10:16</td>\n",
       "      <td>00:01:27</td>\n",
       "      <td>00:33:36</td>\n",
       "      <td>00:00:58</td>\n",
       "      <td>00:20:25</td>\n",
       "      <td>01:06:42</td>\n",
       "    </tr>\n",
       "    <tr>\n",
       "      <th>4</th>\n",
       "      <td>4.0</td>\n",
       "      <td>155</td>\n",
       "      <td>1</td>\n",
       "      <td>40-49</td>\n",
       "      <td>M</td>\n",
       "      <td>10042375</td>\n",
       "      <td>00:10:21</td>\n",
       "      <td>00:01:29</td>\n",
       "      <td>00:33:25</td>\n",
       "      <td>00:00:53</td>\n",
       "      <td>00:24:34</td>\n",
       "      <td>01:10:43</td>\n",
       "    </tr>\n",
       "  </tbody>\n",
       "</table>\n",
       "</div>"
      ],
      "text/plain": [
       "   Place  Number  Wave Age_Cat Gender TI_Number      Swim        T1     Cycle  \\\n",
       "0   11.0      46     1   16-19      M  10052793  00:08:38  00:01:04  00:38:13   \n",
       "1    8.0     151     1   40-49      M  10046427  00:14:37  00:01:21  00:35:14   \n",
       "2    3.0     110     1   30-39      M       NaN  00:10:21  00:01:25  00:33:02   \n",
       "3    2.0     103     1   30-39      M  10045063  00:10:16  00:01:27  00:33:36   \n",
       "4    4.0     155     1   40-49      M  10042375  00:10:21  00:01:29  00:33:25   \n",
       "\n",
       "         T2       Run    Finish  \n",
       "0  00:00:42  00:24:06  01:12:44  \n",
       "1  00:00:59  00:19:52  01:12:03  \n",
       "2  00:00:53  00:21:22  01:07:03  \n",
       "3  00:00:58  00:20:25  01:06:42  \n",
       "4  00:00:53  00:24:34  01:10:43  "
      ]
     },
     "execution_count": 2,
     "metadata": {},
     "output_type": "execute_result"
    }
   ],
   "source": [
    "Triathlone = pd.read_csv(\"TriathloneData.csv\")\n",
    "Triathlone.head()"
   ]
  },
  {
   "cell_type": "markdown",
   "metadata": {},
   "source": [
    "Load the dataset stored in the file **provinces.csv**. The variables in this dataset are as follows:\n",
    "\n",
    "* **Number:** The athlete's race bib number\n",
    "* **Province:** The Irish province in which the athlete lives"
   ]
  },
  {
   "cell_type": "code",
   "execution_count": 3,
   "metadata": {},
   "outputs": [
    {
     "data": {
      "text/html": [
       "<div>\n",
       "<style scoped>\n",
       "    .dataframe tbody tr th:only-of-type {\n",
       "        vertical-align: middle;\n",
       "    }\n",
       "\n",
       "    .dataframe tbody tr th {\n",
       "        vertical-align: top;\n",
       "    }\n",
       "\n",
       "    .dataframe thead th {\n",
       "        text-align: right;\n",
       "    }\n",
       "</style>\n",
       "<table border=\"1\" class=\"dataframe\">\n",
       "  <thead>\n",
       "    <tr style=\"text-align: right;\">\n",
       "      <th></th>\n",
       "      <th>Number</th>\n",
       "      <th>Province</th>\n",
       "    </tr>\n",
       "  </thead>\n",
       "  <tbody>\n",
       "    <tr>\n",
       "      <th>0</th>\n",
       "      <td>46</td>\n",
       "      <td>Leinster</td>\n",
       "    </tr>\n",
       "    <tr>\n",
       "      <th>1</th>\n",
       "      <td>53</td>\n",
       "      <td>Connacht</td>\n",
       "    </tr>\n",
       "    <tr>\n",
       "      <th>2</th>\n",
       "      <td>57</td>\n",
       "      <td>Leinster</td>\n",
       "    </tr>\n",
       "    <tr>\n",
       "      <th>3</th>\n",
       "      <td>61</td>\n",
       "      <td>Leinster</td>\n",
       "    </tr>\n",
       "    <tr>\n",
       "      <th>4</th>\n",
       "      <td>64</td>\n",
       "      <td>Leinster</td>\n",
       "    </tr>\n",
       "  </tbody>\n",
       "</table>\n",
       "</div>"
      ],
      "text/plain": [
       "   Number  Province\n",
       "0      46  Leinster\n",
       "1      53  Connacht\n",
       "2      57  Leinster\n",
       "3      61  Leinster\n",
       "4      64  Leinster"
      ]
     },
     "execution_count": 3,
     "metadata": {},
     "output_type": "execute_result"
    }
   ],
   "source": [
    "provinces = pd.read_csv(\"provinces.csv\")\n",
    "provinces.head()"
   ]
  },
  {
   "cell_type": "markdown",
   "metadata": {},
   "source": [
    "## Question 2: Tidy \n",
    "\n",
    "Convert the string times into seconds. For example, the Swim time for the first athlete \"00:08:38\" should convert to 518 seconds."
   ]
  },
  {
   "cell_type": "markdown",
   "metadata": {},
   "source": [
    "Define a function to convert times into seconds."
   ]
  },
  {
   "cell_type": "code",
   "execution_count": 4,
   "metadata": {},
   "outputs": [],
   "source": [
    "def hms_to_seconds(t):\n",
    "    if(type(t) != str):\n",
    "        return np.NaN\n",
    "    else:\n",
    "        h, m, s = [int(i) for i in t.split(':')]\n",
    "        return 3600*h + 60*m + s"
   ]
  },
  {
   "cell_type": "markdown",
   "metadata": {},
   "source": [
    "Convert times into seconds for each portion of the race. The pandas Series **apply** function used togehter with the **hms_to_seconds** function defined above can be used for this."
   ]
  },
  {
   "cell_type": "code",
   "execution_count": 5,
   "metadata": {},
   "outputs": [],
   "source": [
    "# I use the apply function to convert times into seconds\n",
    "# I use the pandas Series apply function used togehter with the hms_to_seconds function to convert times into seconds \n",
    "# for each portion of the race\n",
    "\n",
    "Triathlone[\"Swim\"] = Triathlone[\"Swim\"].apply(hms_to_seconds)\n",
    "Triathlone[\"T1\"] = Triathlone[\"T1\"].apply(hms_to_seconds)\n",
    "Triathlone[\"Cycle\"] = Triathlone[\"Cycle\"].apply(hms_to_seconds)\n",
    "Triathlone[\"T2\"] = Triathlone[\"T2\"].apply(hms_to_seconds)\n",
    "Triathlone[\"Run\"] = Triathlone[\"Run\"].apply(hms_to_seconds)\n",
    "Triathlone[\"Finish\"] = Triathlone[\"Finish\"].apply(hms_to_seconds)"
   ]
  },
  {
   "cell_type": "code",
   "execution_count": 6,
   "metadata": {},
   "outputs": [
    {
     "data": {
      "text/html": [
       "<div>\n",
       "<style scoped>\n",
       "    .dataframe tbody tr th:only-of-type {\n",
       "        vertical-align: middle;\n",
       "    }\n",
       "\n",
       "    .dataframe tbody tr th {\n",
       "        vertical-align: top;\n",
       "    }\n",
       "\n",
       "    .dataframe thead th {\n",
       "        text-align: right;\n",
       "    }\n",
       "</style>\n",
       "<table border=\"1\" class=\"dataframe\">\n",
       "  <thead>\n",
       "    <tr style=\"text-align: right;\">\n",
       "      <th></th>\n",
       "      <th>Place</th>\n",
       "      <th>Number</th>\n",
       "      <th>Wave</th>\n",
       "      <th>Age_Cat</th>\n",
       "      <th>Gender</th>\n",
       "      <th>TI_Number</th>\n",
       "      <th>Swim</th>\n",
       "      <th>T1</th>\n",
       "      <th>Cycle</th>\n",
       "      <th>T2</th>\n",
       "      <th>Run</th>\n",
       "      <th>Finish</th>\n",
       "    </tr>\n",
       "  </thead>\n",
       "  <tbody>\n",
       "    <tr>\n",
       "      <th>0</th>\n",
       "      <td>11.0</td>\n",
       "      <td>46</td>\n",
       "      <td>1</td>\n",
       "      <td>16-19</td>\n",
       "      <td>M</td>\n",
       "      <td>10052793</td>\n",
       "      <td>518</td>\n",
       "      <td>64.0</td>\n",
       "      <td>2293.0</td>\n",
       "      <td>42.0</td>\n",
       "      <td>1446.0</td>\n",
       "      <td>4364.0</td>\n",
       "    </tr>\n",
       "    <tr>\n",
       "      <th>1</th>\n",
       "      <td>8.0</td>\n",
       "      <td>151</td>\n",
       "      <td>1</td>\n",
       "      <td>40-49</td>\n",
       "      <td>M</td>\n",
       "      <td>10046427</td>\n",
       "      <td>877</td>\n",
       "      <td>81.0</td>\n",
       "      <td>2114.0</td>\n",
       "      <td>59.0</td>\n",
       "      <td>1192.0</td>\n",
       "      <td>4323.0</td>\n",
       "    </tr>\n",
       "    <tr>\n",
       "      <th>2</th>\n",
       "      <td>3.0</td>\n",
       "      <td>110</td>\n",
       "      <td>1</td>\n",
       "      <td>30-39</td>\n",
       "      <td>M</td>\n",
       "      <td>NaN</td>\n",
       "      <td>621</td>\n",
       "      <td>85.0</td>\n",
       "      <td>1982.0</td>\n",
       "      <td>53.0</td>\n",
       "      <td>1282.0</td>\n",
       "      <td>4023.0</td>\n",
       "    </tr>\n",
       "    <tr>\n",
       "      <th>3</th>\n",
       "      <td>2.0</td>\n",
       "      <td>103</td>\n",
       "      <td>1</td>\n",
       "      <td>30-39</td>\n",
       "      <td>M</td>\n",
       "      <td>10045063</td>\n",
       "      <td>616</td>\n",
       "      <td>87.0</td>\n",
       "      <td>2016.0</td>\n",
       "      <td>58.0</td>\n",
       "      <td>1225.0</td>\n",
       "      <td>4002.0</td>\n",
       "    </tr>\n",
       "    <tr>\n",
       "      <th>4</th>\n",
       "      <td>4.0</td>\n",
       "      <td>155</td>\n",
       "      <td>1</td>\n",
       "      <td>40-49</td>\n",
       "      <td>M</td>\n",
       "      <td>10042375</td>\n",
       "      <td>621</td>\n",
       "      <td>89.0</td>\n",
       "      <td>2005.0</td>\n",
       "      <td>53.0</td>\n",
       "      <td>1474.0</td>\n",
       "      <td>4243.0</td>\n",
       "    </tr>\n",
       "  </tbody>\n",
       "</table>\n",
       "</div>"
      ],
      "text/plain": [
       "   Place  Number  Wave Age_Cat Gender TI_Number  Swim    T1   Cycle    T2  \\\n",
       "0   11.0      46     1   16-19      M  10052793   518  64.0  2293.0  42.0   \n",
       "1    8.0     151     1   40-49      M  10046427   877  81.0  2114.0  59.0   \n",
       "2    3.0     110     1   30-39      M       NaN   621  85.0  1982.0  53.0   \n",
       "3    2.0     103     1   30-39      M  10045063   616  87.0  2016.0  58.0   \n",
       "4    4.0     155     1   40-49      M  10042375   621  89.0  2005.0  53.0   \n",
       "\n",
       "      Run  Finish  \n",
       "0  1446.0  4364.0  \n",
       "1  1192.0  4323.0  \n",
       "2  1282.0  4023.0  \n",
       "3  1225.0  4002.0  \n",
       "4  1474.0  4243.0  "
      ]
     },
     "execution_count": 6,
     "metadata": {},
     "output_type": "execute_result"
    }
   ],
   "source": [
    "# I check if the new Triatlone is all right\n",
    "Triathlone.head()"
   ]
  },
  {
   "cell_type": "markdown",
   "metadata": {},
   "source": [
    "## Question 2: Model \n",
    "\n",
    "Perform a simple analysis of the dataset to answer the questions listed below."
   ]
  },
  {
   "cell_type": "markdown",
   "metadata": {},
   "source": [
    "**a)** What is the average finish time?"
   ]
  },
  {
   "cell_type": "code",
   "execution_count": 7,
   "metadata": {},
   "outputs": [
    {
     "name": "stdout",
     "output_type": "stream",
     "text": [
      "the average finish time is: 5350.733695652174 seconds\n"
     ]
    }
   ],
   "source": [
    "# I use the mean() function to calculate the average finish\n",
    "\n",
    "avrfinish = Triathlone[\"Finish\"].mean()\n",
    "print(\"the average finish time is:\",avrfinish, \"seconds\")"
   ]
  },
  {
   "cell_type": "markdown",
   "metadata": {},
   "source": [
    "**b)** What is minimum, mean and maximum cycling times?"
   ]
  },
  {
   "cell_type": "code",
   "execution_count": 8,
   "metadata": {},
   "outputs": [
    {
     "name": "stdout",
     "output_type": "stream",
     "text": [
      "the minimum, mean and maximum cycling times are: 1867.0 seconds, 2628.5661375661375 seconds and 4285.0 seconds\n"
     ]
    }
   ],
   "source": [
    "# I use these three functions:\n",
    "\n",
    "minimum = Triathlone[\"Cycle\"].min()\n",
    "mean = Triathlone[\"Cycle\"].mean()\n",
    "maximum = Triathlone[\"Cycle\"].max()\n",
    "print(\"the minimum, mean and maximum cycling times are:\", minimum,\"seconds,\", mean, \"seconds and\", maximum,\"seconds\")"
   ]
  },
  {
   "cell_type": "markdown",
   "metadata": {},
   "source": [
    "**c)** On average which component takes the longest: swimming, cycling or running?"
   ]
  },
  {
   "cell_type": "code",
   "execution_count": 9,
   "metadata": {},
   "outputs": [
    {
     "name": "stdout",
     "output_type": "stream",
     "text": [
      " cycling takes the longest\n"
     ]
    }
   ],
   "source": [
    "# I calculate the average of each of these components of the Triathlone\n",
    "\n",
    "meanswimming = Triathlone[\"Swim\"].mean()\n",
    "meancycling = Triathlone[\"Cycle\"].mean()\n",
    "meanrunning = Triathlone[\"Run\"].mean()\n",
    "\n",
    "# Then I calculate which takes the longest\n",
    "\n",
    "if (meanswimming > meancycling and meanswimming > meanrunning):\n",
    "    print(\" swimming takes the longest\")\n",
    "if (meancycling > meanswimming and meancycling > meanrunning):\n",
    "    print(\" cycling takes the longest\")\n",
    "if (meanrunning > meanswimming and meanrunning > meancycling):\n",
    "    print(\" running takes the longest\")\n"
   ]
  },
  {
   "cell_type": "markdown",
   "metadata": {},
   "source": [
    "**d)** Did more men or women take part in the event?"
   ]
  },
  {
   "cell_type": "code",
   "execution_count": 10,
   "metadata": {},
   "outputs": [
    {
     "name": "stdout",
     "output_type": "stream",
     "text": [
      "M    138\n",
      "F     52\n",
      "Name: Gender, dtype: int64\n",
      "Men have taken more part in the event with: 138 M\n"
     ]
    }
   ],
   "source": [
    "# I use value_counts() function to calculate how many of each one there is and who are more\n",
    "\n",
    "sex = Triathlone[\"Gender\"].value_counts()\n",
    "print(sex)\n",
    "num = sex.max()\n",
    "print(\"Men have taken more part in the event with:\", num, sex.keys()[0])"
   ]
  },
  {
   "cell_type": "code",
   "execution_count": 11,
   "metadata": {},
   "outputs": [
    {
     "data": {
      "text/plain": [
       "30-39    78\n",
       "40-49    55\n",
       "20-29    34\n",
       "50+      22\n",
       "16-19     1\n",
       "Name: Age_Cat, dtype: int64"
      ]
     },
     "execution_count": 11,
     "metadata": {},
     "output_type": "execute_result"
    }
   ],
   "source": [
    "#example for exam(study)\n",
    "lolo = Triathlone[\"Age_Cat\"].value_counts()\n",
    "lolo"
   ]
  },
  {
   "cell_type": "code",
   "execution_count": 12,
   "metadata": {},
   "outputs": [
    {
     "name": "stdout",
     "output_type": "stream",
     "text": [
      "<pandas.core.groupby.generic.DataFrameGroupBy object at 0x0F391DA8>\n"
     ]
    }
   ],
   "source": [
    "polla = Triathlone.groupby([\"Gender\"])\n",
    "print(polla)"
   ]
  },
  {
   "cell_type": "markdown",
   "metadata": {},
   "source": [
    "**e)** What is the difference between the average event finish time for males and for females?"
   ]
  },
  {
   "cell_type": "code",
   "execution_count": 13,
   "metadata": {},
   "outputs": [
    {
     "name": "stdout",
     "output_type": "stream",
     "text": [
      "Finish    412.951323\n",
      "dtype: float64\n",
      "\n",
      "\n",
      "the difference between the average event finish time for males:( Finish    5240.762963\n",
      "dtype: float64 seconds)and for females:( Finish    5653.714286\n",
      "dtype: float64 ) is: Finish    412.951323\n",
      "dtype: float64 seconds.\n"
     ]
    }
   ],
   "source": [
    "# first I create a new date set with the 2 components i am interested in\n",
    "\n",
    "comparison = Triathlone[[\"Gender\", \"Finish\"]]\n",
    "\n",
    "# I calculate the average times for female\n",
    "female = comparison[comparison[\"Gender\"]=='F']\n",
    "meanfemale = female.mean()\n",
    "\n",
    "# I calcualte the average times for male\n",
    "male = comparison[comparison[\"Gender\"]=='M']\n",
    "meanmale = male.mean()\n",
    "\n",
    "# I calculate the difference\n",
    "diference = meanfemale - meanmale\n",
    "print(diference)\n",
    "print(\"\\n\")\n",
    "print(\"the difference between the average event finish time for males:(\", meanmale, \"seconds)and for females:(\", meanfemale,\") is:\", diference, \"seconds.\")"
   ]
  },
  {
   "cell_type": "markdown",
   "metadata": {},
   "source": [
    "## Question 3: Visualise \n",
    "\n",
    "Generate some visualisations from the dataset."
   ]
  },
  {
   "cell_type": "markdown",
   "metadata": {},
   "source": [
    "**a)** Plot a histogram of finishing times."
   ]
  },
  {
   "cell_type": "code",
   "execution_count": 14,
   "metadata": {
    "scrolled": true
   },
   "outputs": [
    {
     "data": {
      "text/plain": [
       "Text(0.5, 0, 'Duration (seconds)')"
      ]
     },
     "execution_count": 14,
     "metadata": {},
     "output_type": "execute_result"
    },
    {
     "data": {
      "image/png": "[encoded data removed]",
      "text/plain": [
       "<Figure size 360x360 with 1 Axes>"
      ]
     },
     "metadata": {
      "needs_background": "light"
     },
     "output_type": "display_data"
    }
   ],
   "source": [
    "finishingtimes = Triathlone[\"Finish\"]\n",
    "finishingtimes.plot(kind = \"hist\", figsize = (5,5), color=\"g\", title=\"Finishing times\")\n",
    "plt.xlabel(\"Duration (seconds)\")"
   ]
  },
  {
   "cell_type": "markdown",
   "metadata": {},
   "source": [
    "**b)** Draw an appropriate visualisation to compare the finishing times of different genders."
   ]
  },
  {
   "cell_type": "code",
   "execution_count": 15,
   "metadata": {},
   "outputs": [
    {
     "data": {
      "text/plain": [
       "Text(0, 0.5, 'Time in Seconds')"
      ]
     },
     "execution_count": 15,
     "metadata": {},
     "output_type": "execute_result"
    },
    {
     "data": {
      "image/png": "[encoded data removed]",
      "text/plain": [
       "<Figure size 432x288 with 1 Axes>"
      ]
     },
     "metadata": {
      "needs_background": "light"
     },
     "output_type": "display_data"
    }
   ],
   "source": [
    "finish_diff_genders = Triathlone.groupby([\"Gender\"])\n",
    "pillar = finish_diff_genders[\"Finish\"].mean()\n",
    "pillar.plot(kind = \"bar\", color=\"r\", title=\"Finishing Times Females-Males\")\n",
    "label=pillar.plot(kind = \"bar\", color=\"r\", title=\"Finishing Times Females-Males\")\n",
    "label.set_ylabel(\"Time in Seconds\")"
   ]
  },
  {
   "cell_type": "markdown",
   "metadata": {},
   "source": [
    "**c)** Draw an appropriate visualisation to compare the finishing times of difference age groups."
   ]
  },
  {
   "cell_type": "code",
   "execution_count": 16,
   "metadata": {
    "scrolled": true
   },
   "outputs": [
    {
     "data": {
      "text/plain": [
       "30-39    78\n",
       "40-49    55\n",
       "20-29    34\n",
       "50+      22\n",
       "16-19     1\n",
       "Name: Age_Cat, dtype: int64"
      ]
     },
     "execution_count": 16,
     "metadata": {},
     "output_type": "execute_result"
    }
   ],
   "source": [
    "# I chechk all different groups of ages\n",
    "Triathlone[\"Age_Cat\"].value_counts()\n"
   ]
  },
  {
   "cell_type": "code",
   "execution_count": 17,
   "metadata": {
    "scrolled": false
   },
   "outputs": [
    {
     "data": {
      "text/plain": [
       "Text(0, 0.5, 'Time in Seconds')"
      ]
     },
     "execution_count": 17,
     "metadata": {},
     "output_type": "execute_result"
    },
    {
     "data": {
      "image/png": "[encoded data removed]",
      "text/plain": [
       "<Figure size 432x288 with 1 Axes>"
      ]
     },
     "metadata": {
      "needs_background": "light"
     },
     "output_type": "display_data"
    }
   ],
   "source": [
    "# I use the groupby() function to put together by ages\n",
    "# then I calculate the means of each group\n",
    "fin_diff_age = Triathlone.groupby([\"Age_Cat\"])\n",
    "means = fin_diff_age[\"Finish\"].mean()\n",
    "means.plot(kind = \"bar\",color=\"y\", title=\"The Finishing Times of Difference Age Groups\")\n",
    "label = means.plot(kind = \"bar\",color=\"y\", title=\"The Finishing Times of Difference Age Groups\")\n",
    "\n",
    "label.set_xlabel(\"Groups of ages\")\n",
    "label.set_ylabel(\"Time in Seconds\")"
   ]
  },
  {
   "cell_type": "markdown",
   "metadata": {},
   "source": [
    "**d)** Draw an appropriate visualisation to determine whether or not Transition 2 times correlate with Finish times."
   ]
  },
  {
   "cell_type": "code",
   "execution_count": 18,
   "metadata": {},
   "outputs": [
    {
     "data": {
      "text/plain": [
       "<matplotlib.collections.PathCollection at 0xa0cc88>"
      ]
     },
     "execution_count": 18,
     "metadata": {},
     "output_type": "execute_result"
    },
    {
     "data": {
      "image/png": "[encoded data removed]",
      "text/plain": [
       "<Figure size 360x360 with 1 Axes>"
      ]
     },
     "metadata": {
      "needs_background": "light"
     },
     "output_type": "display_data"
    }
   ],
   "source": [
    "# I use a scatter plot to visualize the correlation between thes two components\n",
    "plt.figure(figsize=(5, 5))\n",
    "\n",
    "plt.scatter(Triathlone[\"T2\"], Triathlone[\"Finish\"])"
   ]
  },
  {
   "cell_type": "markdown",
   "metadata": {},
   "source": [
    "**e)** Draw a scatter plot matrix to explore the realtionships between the times taken by each athlete for each different component of the triathlon."
   ]
  },
  {
   "cell_type": "code",
   "execution_count": 22,
   "metadata": {},
   "outputs": [],
   "source": [
    "import pandas.plotting"
   ]
  },
  {
   "cell_type": "code",
   "execution_count": 24,
   "metadata": {},
   "outputs": [
    {
     "data": {
      "text/plain": [
       "array([[<AxesSubplot:xlabel='Swim', ylabel='Swim'>,\n",
       "        <AxesSubplot:xlabel='T1', ylabel='Swim'>,\n",
       "        <AxesSubplot:xlabel='Cycle', ylabel='Swim'>,\n",
       "        <AxesSubplot:xlabel='T2', ylabel='Swim'>,\n",
       "        <AxesSubplot:xlabel='Run', ylabel='Swim'>,\n",
       "        <AxesSubplot:xlabel='Finish', ylabel='Swim'>],\n",
       "       [<AxesSubplot:xlabel='Swim', ylabel='T1'>,\n",
       "        <AxesSubplot:xlabel='T1', ylabel='T1'>,\n",
       "        <AxesSubplot:xlabel='Cycle', ylabel='T1'>,\n",
       "        <AxesSubplot:xlabel='T2', ylabel='T1'>,\n",
       "        <AxesSubplot:xlabel='Run', ylabel='T1'>,\n",
       "        <AxesSubplot:xlabel='Finish', ylabel='T1'>],\n",
       "       [<AxesSubplot:xlabel='Swim', ylabel='Cycle'>,\n",
       "        <AxesSubplot:xlabel='T1', ylabel='Cycle'>,\n",
       "        <AxesSubplot:xlabel='Cycle', ylabel='Cycle'>,\n",
       "        <AxesSubplot:xlabel='T2', ylabel='Cycle'>,\n",
       "        <AxesSubplot:xlabel='Run', ylabel='Cycle'>,\n",
       "        <AxesSubplot:xlabel='Finish', ylabel='Cycle'>],\n",
       "       [<AxesSubplot:xlabel='Swim', ylabel='T2'>,\n",
       "        <AxesSubplot:xlabel='T1', ylabel='T2'>,\n",
       "        <AxesSubplot:xlabel='Cycle', ylabel='T2'>,\n",
       "        <AxesSubplot:xlabel='T2', ylabel='T2'>,\n",
       "        <AxesSubplot:xlabel='Run', ylabel='T2'>,\n",
       "        <AxesSubplot:xlabel='Finish', ylabel='T2'>],\n",
       "       [<AxesSubplot:xlabel='Swim', ylabel='Run'>,\n",
       "        <AxesSubplot:xlabel='T1', ylabel='Run'>,\n",
       "        <AxesSubplot:xlabel='Cycle', ylabel='Run'>,\n",
       "        <AxesSubplot:xlabel='T2', ylabel='Run'>,\n",
       "        <AxesSubplot:xlabel='Run', ylabel='Run'>,\n",
       "        <AxesSubplot:xlabel='Finish', ylabel='Run'>],\n",
       "       [<AxesSubplot:xlabel='Swim', ylabel='Finish'>,\n",
       "        <AxesSubplot:xlabel='T1', ylabel='Finish'>,\n",
       "        <AxesSubplot:xlabel='Cycle', ylabel='Finish'>,\n",
       "        <AxesSubplot:xlabel='T2', ylabel='Finish'>,\n",
       "        <AxesSubplot:xlabel='Run', ylabel='Finish'>,\n",
       "        <AxesSubplot:xlabel='Finish', ylabel='Finish'>]], dtype=object)"
      ]
     },
     "execution_count": 24,
     "metadata": {},
     "output_type": "execute_result"
    },
    {
     "data": {
      "image/png": "[encoded data removed]",
      "text/plain": [
       "<Figure size 432x288 with 36 Axes>"
      ]
     },
     "metadata": {
      "needs_background": "light"
     },
     "output_type": "display_data"
    }
   ],
   "source": [
    "from pandas.plotting import scatter_matrix\n",
    "times = Triathlone[[\"Swim\", \"T1\", \"Cycle\", \"T2\", \"Run\", \"Finish\"]]\n",
    "\n",
    "scatter_matrix(times, diagonal = \"hist\")"
   ]
  },
  {
   "cell_type": "markdown",
   "metadata": {},
   "source": [
    "**f)** Draw a visualsiation to show the number of athletes who took part from each province."
   ]
  },
  {
   "cell_type": "code",
   "execution_count": 20,
   "metadata": {},
   "outputs": [
    {
     "data": {
      "text/plain": [
       "<AxesSubplot:ylabel='Province'>"
      ]
     },
     "execution_count": 20,
     "metadata": {},
     "output_type": "execute_result"
    },
    {
     "data": {
      "image/png": "[encoded data removed]",
      "text/plain": [
       "<Figure size 432x432 with 1 Axes>"
      ]
     },
     "metadata": {},
     "output_type": "display_data"
    }
   ],
   "source": [
    "atl_provincie = pd.merge(Triathlone, provinces, on=\"Number\", how = 'outer')\n",
    "atl_provincie.head()\n",
    "order = atl_provincie[\"Province\"].value_counts()\n",
    "order\n",
    "order.plot(kind=\"pie\", figsize=(6, 6), colors=[\"red\",\"blue\",\"grey\",\"green\"])\n",
    "\n"
   ]
  },
  {
   "cell_type": "markdown",
   "metadata": {},
   "source": [
    "## Question 4: Transform \n",
    "\n",
    "Ask deeper questions which require merging the two datasets."
   ]
  },
  {
   "cell_type": "markdown",
   "metadata": {},
   "source": [
    "**a)** Which province has the fastest finishers on average?"
   ]
  },
  {
   "cell_type": "code",
   "execution_count": 25,
   "metadata": {
    "scrolled": true
   },
   "outputs": [
    {
     "data": {
      "text/html": [
       "<div>\n",
       "<style scoped>\n",
       "    .dataframe tbody tr th:only-of-type {\n",
       "        vertical-align: middle;\n",
       "    }\n",
       "\n",
       "    .dataframe tbody tr th {\n",
       "        vertical-align: top;\n",
       "    }\n",
       "\n",
       "    .dataframe thead th {\n",
       "        text-align: right;\n",
       "    }\n",
       "</style>\n",
       "<table border=\"1\" class=\"dataframe\">\n",
       "  <thead>\n",
       "    <tr style=\"text-align: right;\">\n",
       "      <th></th>\n",
       "      <th>Place</th>\n",
       "      <th>Number</th>\n",
       "      <th>Wave</th>\n",
       "      <th>Age_Cat</th>\n",
       "      <th>Gender</th>\n",
       "      <th>TI_Number</th>\n",
       "      <th>Swim</th>\n",
       "      <th>T1</th>\n",
       "      <th>Cycle</th>\n",
       "      <th>T2</th>\n",
       "      <th>Run</th>\n",
       "      <th>Finish</th>\n",
       "      <th>Province</th>\n",
       "    </tr>\n",
       "  </thead>\n",
       "  <tbody>\n",
       "    <tr>\n",
       "      <th>0</th>\n",
       "      <td>11.0</td>\n",
       "      <td>46</td>\n",
       "      <td>1.0</td>\n",
       "      <td>16-19</td>\n",
       "      <td>M</td>\n",
       "      <td>10052793</td>\n",
       "      <td>518.0</td>\n",
       "      <td>64.0</td>\n",
       "      <td>2293.0</td>\n",
       "      <td>42.0</td>\n",
       "      <td>1446.0</td>\n",
       "      <td>4364.0</td>\n",
       "      <td>Leinster</td>\n",
       "    </tr>\n",
       "    <tr>\n",
       "      <th>1</th>\n",
       "      <td>8.0</td>\n",
       "      <td>151</td>\n",
       "      <td>1.0</td>\n",
       "      <td>40-49</td>\n",
       "      <td>M</td>\n",
       "      <td>10046427</td>\n",
       "      <td>877.0</td>\n",
       "      <td>81.0</td>\n",
       "      <td>2114.0</td>\n",
       "      <td>59.0</td>\n",
       "      <td>1192.0</td>\n",
       "      <td>4323.0</td>\n",
       "      <td>Leinster</td>\n",
       "    </tr>\n",
       "    <tr>\n",
       "      <th>2</th>\n",
       "      <td>3.0</td>\n",
       "      <td>110</td>\n",
       "      <td>1.0</td>\n",
       "      <td>30-39</td>\n",
       "      <td>M</td>\n",
       "      <td>NaN</td>\n",
       "      <td>621.0</td>\n",
       "      <td>85.0</td>\n",
       "      <td>1982.0</td>\n",
       "      <td>53.0</td>\n",
       "      <td>1282.0</td>\n",
       "      <td>4023.0</td>\n",
       "      <td>Munster</td>\n",
       "    </tr>\n",
       "    <tr>\n",
       "      <th>3</th>\n",
       "      <td>2.0</td>\n",
       "      <td>103</td>\n",
       "      <td>1.0</td>\n",
       "      <td>30-39</td>\n",
       "      <td>M</td>\n",
       "      <td>10045063</td>\n",
       "      <td>616.0</td>\n",
       "      <td>87.0</td>\n",
       "      <td>2016.0</td>\n",
       "      <td>58.0</td>\n",
       "      <td>1225.0</td>\n",
       "      <td>4002.0</td>\n",
       "      <td>Ulster</td>\n",
       "    </tr>\n",
       "    <tr>\n",
       "      <th>4</th>\n",
       "      <td>4.0</td>\n",
       "      <td>155</td>\n",
       "      <td>1.0</td>\n",
       "      <td>40-49</td>\n",
       "      <td>M</td>\n",
       "      <td>10042375</td>\n",
       "      <td>621.0</td>\n",
       "      <td>89.0</td>\n",
       "      <td>2005.0</td>\n",
       "      <td>53.0</td>\n",
       "      <td>1474.0</td>\n",
       "      <td>4243.0</td>\n",
       "      <td>Munster</td>\n",
       "    </tr>\n",
       "  </tbody>\n",
       "</table>\n",
       "</div>"
      ],
      "text/plain": [
       "   Place  Number  Wave Age_Cat Gender TI_Number   Swim    T1   Cycle    T2  \\\n",
       "0   11.0      46   1.0   16-19      M  10052793  518.0  64.0  2293.0  42.0   \n",
       "1    8.0     151   1.0   40-49      M  10046427  877.0  81.0  2114.0  59.0   \n",
       "2    3.0     110   1.0   30-39      M       NaN  621.0  85.0  1982.0  53.0   \n",
       "3    2.0     103   1.0   30-39      M  10045063  616.0  87.0  2016.0  58.0   \n",
       "4    4.0     155   1.0   40-49      M  10042375  621.0  89.0  2005.0  53.0   \n",
       "\n",
       "      Run  Finish  Province  \n",
       "0  1446.0  4364.0  Leinster  \n",
       "1  1192.0  4323.0  Leinster  \n",
       "2  1282.0  4023.0   Munster  \n",
       "3  1225.0  4002.0    Ulster  \n",
       "4  1474.0  4243.0   Munster  "
      ]
     },
     "execution_count": 25,
     "metadata": {},
     "output_type": "execute_result"
    }
   ],
   "source": [
    "# first I fix the missed values in the component of finish\n",
    "# then I merge the Triathlone and provinces datasets\n",
    "mean_Finish = Triathlone[\"Finish\"].mean()\n",
    "Triathlone[\"Finish\"] = Triathlone[\"Finish\"].fillna(mean_Finish)\n",
    "atl_provincie = pd.merge(Triathlone, provinces, on=\"Number\", how = 'outer')\n",
    "atl_provincie.head()\n"
   ]
  },
  {
   "cell_type": "code",
   "execution_count": 26,
   "metadata": {},
   "outputs": [
    {
     "name": "stdout",
     "output_type": "stream",
     "text": [
      "[5408.5120108695655, 5233.775901942646, 5260.7149550224885, 5342.0]\n",
      "Munster has the fastest finishers on average with: 5233.775901942646 seconds\n"
     ]
    }
   ],
   "source": [
    "# I calculete the mean of each province finish\n",
    "\n",
    "Leinster = atl_provincie[atl_provincie[\"Province\"]=='Leinster']\n",
    "Leinsterfinish = Leinster[\"Finish\"].mean()\n",
    "\n",
    "Munster = atl_provincie[atl_provincie[\"Province\"]=='Munster']\n",
    "Munsterfinish = Munster[\"Finish\"].mean()\n",
    "\n",
    "Ulster = atl_provincie[atl_provincie[\"Province\"]=='Ulster']\n",
    "Ulsterfinish = Ulster[\"Finish\"].mean()\n",
    "\n",
    "Connacht = atl_provincie[atl_provincie[\"Province\"]=='Connacht']\n",
    "Connachtfinish = Connacht[\"Finish\"].mean()\n",
    "\n",
    "# I show values in a list \n",
    "finishlist = [Leinsterfinish,Munsterfinish, Ulsterfinish, Connachtfinish]\n",
    "print(finishlist)\n",
    "\n",
    "# I calculate which is the province with the fastest finishers on average \n",
    "if (Leinsterfinish < Munsterfinish and  Leinsterfinish < Ulsterfinish  and Leinsterfinish < Connachtfinish):\n",
    "    print(\"Leinster has the fastest finishers on average with:\",Leinsterfinish, \"seconds\" )\n",
    "if (Munsterfinish < Leinsterfinish and  Munsterfinish < Ulsterfinish  and Munsterfinish < Connachtfinish):\n",
    "    print(\"Munster has the fastest finishers on average with:\",Munsterfinish ,\"seconds\")\n",
    "if (Ulsterfinish < Leinsterfinish and  Ulsterfinish < Munsterfinish  and Ulsterfinish < Connachtfinish):\n",
    "    print(\"Ulster has the fastest finishers on average with:\",Ulsterfinish ,\"seconds\")\n",
    "if (Connachtfinish < Leinsterfinish and  Connachtfinish < Munsterfinish and Connachtfinish < Ulsterfinish):\n",
    "    print(\"Connacht has the fastest finishers on average with:\",Connachtfinish ,\"seconds\")\n"
   ]
  },
  {
   "cell_type": "code",
   "execution_count": null,
   "metadata": {},
   "outputs": [],
   "source": []
  }
 ],
 "metadata": {
  "kernelspec": {
   "display_name": "Python 3",
   "language": "python",
   "name": "python3"
  },
  "language_info": {
   "codemirror_mode": {
    "name": "ipython",
    "version": 3
   },
   "file_extension": ".py",
   "mimetype": "text/x-python",
   "name": "python",
   "nbconvert_exporter": "python",
   "pygments_lexer": "ipython3",
   "version": "3.8.5"
  }
 },
 "nbformat": 4,
 "nbformat_minor": 2
}
